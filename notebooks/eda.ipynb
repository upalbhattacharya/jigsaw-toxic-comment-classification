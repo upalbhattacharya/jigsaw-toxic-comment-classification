{
 "cells": [
  {
   "cell_type": "markdown",
   "id": "246809dc-0136-4ca9-bbd6-68244cefc9fb",
   "metadata": {},
   "source": [
    "# Jigsaw Toxic Comment Classification"
   ]
  },
  {
   "cell_type": "code",
   "execution_count": 1,
   "id": "0c52d7d1-506e-4a1f-82f5-46f8a585096e",
   "metadata": {},
   "outputs": [],
   "source": [
    "import numpy as np\n",
    "import matplotlib.pyplot as plt\n",
    "import seaborn as sns\n",
    "import pandas as pd"
   ]
  },
  {
   "cell_type": "code",
   "execution_count": 3,
   "id": "845f117d-8727-4d22-a366-186b184518ed",
   "metadata": {},
   "outputs": [],
   "source": [
    "%matplotlib inline"
   ]
  },
  {
   "cell_type": "code",
   "execution_count": 4,
   "id": "43621edb-b8c3-4f7c-915d-b4d8a7f97f9d",
   "metadata": {},
   "outputs": [],
   "source": [
    "# Uncomment the command below and use to add all imported modules \n",
    "# of this notebook to the `requirements.txt` file\n",
    "#\n",
    "#!pipreqsnb --force /home/workboots/Repos/jigsaw-toxic-comment-classification"
   ]
  },
  {
   "cell_type": "markdown",
   "id": "99ecdcfc-e413-46c2-9c8d-9f244acca944",
   "metadata": {},
   "source": [
    "## Loading Training Data"
   ]
  },
  {
   "cell_type": "code",
   "execution_count": 5,
   "id": "d7ea3106-ed62-4202-8fda-cee1872d48f7",
   "metadata": {},
   "outputs": [],
   "source": [
    "train_path = \"/home/workboots/Datasets/jigsaw-toxic-comment-classification/raw/train.csv\""
   ]
  },
  {
   "cell_type": "code",
   "execution_count": 6,
   "id": "77590dc5-c410-40f4-b52c-8b3db5744481",
   "metadata": {},
   "outputs": [],
   "source": [
    "train_df = pd.read_csv(train_path)"
   ]
  },
  {
   "cell_type": "code",
   "execution_count": 7,
   "id": "c8cf10eb-5a28-4388-8058-17074ace364e",
   "metadata": {},
   "outputs": [
    {
     "data": {
      "text/html": [
       "<div>\n",
       "<style scoped>\n",
       "    .dataframe tbody tr th:only-of-type {\n",
       "        vertical-align: middle;\n",
       "    }\n",
       "\n",
       "    .dataframe tbody tr th {\n",
       "        vertical-align: top;\n",
       "    }\n",
       "\n",
       "    .dataframe thead th {\n",
       "        text-align: right;\n",
       "    }\n",
       "</style>\n",
       "<table border=\"1\" class=\"dataframe\">\n",
       "  <thead>\n",
       "    <tr style=\"text-align: right;\">\n",
       "      <th></th>\n",
       "      <th>id</th>\n",
       "      <th>comment_text</th>\n",
       "      <th>toxic</th>\n",
       "      <th>severe_toxic</th>\n",
       "      <th>obscene</th>\n",
       "      <th>threat</th>\n",
       "      <th>insult</th>\n",
       "      <th>identity_hate</th>\n",
       "    </tr>\n",
       "  </thead>\n",
       "  <tbody>\n",
       "    <tr>\n",
       "      <th>0</th>\n",
       "      <td>0000997932d777bf</td>\n",
       "      <td>Explanation\\nWhy the edits made under my usern...</td>\n",
       "      <td>0</td>\n",
       "      <td>0</td>\n",
       "      <td>0</td>\n",
       "      <td>0</td>\n",
       "      <td>0</td>\n",
       "      <td>0</td>\n",
       "    </tr>\n",
       "    <tr>\n",
       "      <th>1</th>\n",
       "      <td>000103f0d9cfb60f</td>\n",
       "      <td>D'aww! He matches this background colour I'm s...</td>\n",
       "      <td>0</td>\n",
       "      <td>0</td>\n",
       "      <td>0</td>\n",
       "      <td>0</td>\n",
       "      <td>0</td>\n",
       "      <td>0</td>\n",
       "    </tr>\n",
       "    <tr>\n",
       "      <th>2</th>\n",
       "      <td>000113f07ec002fd</td>\n",
       "      <td>Hey man, I'm really not trying to edit war. It...</td>\n",
       "      <td>0</td>\n",
       "      <td>0</td>\n",
       "      <td>0</td>\n",
       "      <td>0</td>\n",
       "      <td>0</td>\n",
       "      <td>0</td>\n",
       "    </tr>\n",
       "    <tr>\n",
       "      <th>3</th>\n",
       "      <td>0001b41b1c6bb37e</td>\n",
       "      <td>\"\\nMore\\nI can't make any real suggestions on ...</td>\n",
       "      <td>0</td>\n",
       "      <td>0</td>\n",
       "      <td>0</td>\n",
       "      <td>0</td>\n",
       "      <td>0</td>\n",
       "      <td>0</td>\n",
       "    </tr>\n",
       "    <tr>\n",
       "      <th>4</th>\n",
       "      <td>0001d958c54c6e35</td>\n",
       "      <td>You, sir, are my hero. Any chance you remember...</td>\n",
       "      <td>0</td>\n",
       "      <td>0</td>\n",
       "      <td>0</td>\n",
       "      <td>0</td>\n",
       "      <td>0</td>\n",
       "      <td>0</td>\n",
       "    </tr>\n",
       "  </tbody>\n",
       "</table>\n",
       "</div>"
      ],
      "text/plain": [
       "                 id                                       comment_text  toxic  \\\n",
       "0  0000997932d777bf  Explanation\\nWhy the edits made under my usern...      0   \n",
       "1  000103f0d9cfb60f  D'aww! He matches this background colour I'm s...      0   \n",
       "2  000113f07ec002fd  Hey man, I'm really not trying to edit war. It...      0   \n",
       "3  0001b41b1c6bb37e  \"\\nMore\\nI can't make any real suggestions on ...      0   \n",
       "4  0001d958c54c6e35  You, sir, are my hero. Any chance you remember...      0   \n",
       "\n",
       "   severe_toxic  obscene  threat  insult  identity_hate  \n",
       "0             0        0       0       0              0  \n",
       "1             0        0       0       0              0  \n",
       "2             0        0       0       0              0  \n",
       "3             0        0       0       0              0  \n",
       "4             0        0       0       0              0  "
      ]
     },
     "execution_count": 7,
     "metadata": {},
     "output_type": "execute_result"
    }
   ],
   "source": [
    "train_df.head()"
   ]
  },
  {
   "cell_type": "markdown",
   "id": "213d188f-a052-4b3d-9c57-cb4d9fabf13d",
   "metadata": {},
   "source": [
    "Getting counts of each category"
   ]
  },
  {
   "cell_type": "code",
   "execution_count": 8,
   "id": "69480a49-3918-4bfd-9970-c24bd7b89a0c",
   "metadata": {},
   "outputs": [
    {
     "name": "stdout",
     "output_type": "stream",
     "text": [
      "<class 'pandas.core.frame.DataFrame'>\n",
      "RangeIndex: 159571 entries, 0 to 159570\n",
      "Data columns (total 8 columns):\n",
      " #   Column         Non-Null Count   Dtype \n",
      "---  ------         --------------   ----- \n",
      " 0   id             159571 non-null  object\n",
      " 1   comment_text   159571 non-null  object\n",
      " 2   toxic          159571 non-null  int64 \n",
      " 3   severe_toxic   159571 non-null  int64 \n",
      " 4   obscene        159571 non-null  int64 \n",
      " 5   threat         159571 non-null  int64 \n",
      " 6   insult         159571 non-null  int64 \n",
      " 7   identity_hate  159571 non-null  int64 \n",
      "dtypes: int64(6), object(2)\n",
      "memory usage: 9.7+ MB\n"
     ]
    }
   ],
   "source": [
    "train_df.info()"
   ]
  },
  {
   "cell_type": "code",
   "execution_count": 9,
   "id": "2f2ba037-e175-469b-a16e-7cf4c9fa3818",
   "metadata": {},
   "outputs": [
    {
     "data": {
      "text/plain": [
       "array(['id', 'comment_text', 'toxic', 'severe_toxic', 'obscene', 'threat',\n",
       "       'insult', 'identity_hate'], dtype=object)"
      ]
     },
     "execution_count": 9,
     "metadata": {},
     "output_type": "execute_result"
    }
   ],
   "source": [
    "train_df.columns.values"
   ]
  },
  {
   "cell_type": "code",
   "execution_count": 30,
   "id": "2a773666-fd1b-4a99-89bb-00f7532c7588",
   "metadata": {},
   "outputs": [],
   "source": [
    "def get_type(row, column_names):\n",
    "    val = \"\"\n",
    "    for col in column_names:\n",
    "        if type(row[col]) == int and row[col] == 1:\n",
    "            val += \" \" + col\n",
    "\n",
    "    if val == \"\":\n",
    "        val = None\n",
    "    return val"
   ]
  },
  {
   "cell_type": "code",
   "execution_count": 31,
   "id": "a165daee-4122-4c24-8684-72908758e28e",
   "metadata": {
    "scrolled": true
   },
   "outputs": [],
   "source": [
    "del train_df[\"category\"]"
   ]
  },
  {
   "cell_type": "code",
   "execution_count": 32,
   "id": "7be72331-807d-4e95-9fcc-52b8f50860d5",
   "metadata": {
    "scrolled": true
   },
   "outputs": [],
   "source": [
    "train_df[\"category\"] = train_df.apply(get_type, axis=1, column_names=train_df.columns.values)"
   ]
  },
  {
   "cell_type": "code",
   "execution_count": 33,
   "id": "ad2008e2-7929-44de-8f21-27e4190dd23c",
   "metadata": {},
   "outputs": [
    {
     "data": {
      "text/html": [
       "<div>\n",
       "<style scoped>\n",
       "    .dataframe tbody tr th:only-of-type {\n",
       "        vertical-align: middle;\n",
       "    }\n",
       "\n",
       "    .dataframe tbody tr th {\n",
       "        vertical-align: top;\n",
       "    }\n",
       "\n",
       "    .dataframe thead th {\n",
       "        text-align: right;\n",
       "    }\n",
       "</style>\n",
       "<table border=\"1\" class=\"dataframe\">\n",
       "  <thead>\n",
       "    <tr style=\"text-align: right;\">\n",
       "      <th></th>\n",
       "      <th>id</th>\n",
       "      <th>comment_text</th>\n",
       "      <th>toxic</th>\n",
       "      <th>severe_toxic</th>\n",
       "      <th>obscene</th>\n",
       "      <th>threat</th>\n",
       "      <th>insult</th>\n",
       "      <th>identity_hate</th>\n",
       "      <th>category</th>\n",
       "    </tr>\n",
       "  </thead>\n",
       "  <tbody>\n",
       "    <tr>\n",
       "      <th>0</th>\n",
       "      <td>0000997932d777bf</td>\n",
       "      <td>Explanation\\nWhy the edits made under my usern...</td>\n",
       "      <td>0</td>\n",
       "      <td>0</td>\n",
       "      <td>0</td>\n",
       "      <td>0</td>\n",
       "      <td>0</td>\n",
       "      <td>0</td>\n",
       "      <td>None</td>\n",
       "    </tr>\n",
       "    <tr>\n",
       "      <th>1</th>\n",
       "      <td>000103f0d9cfb60f</td>\n",
       "      <td>D'aww! He matches this background colour I'm s...</td>\n",
       "      <td>0</td>\n",
       "      <td>0</td>\n",
       "      <td>0</td>\n",
       "      <td>0</td>\n",
       "      <td>0</td>\n",
       "      <td>0</td>\n",
       "      <td>None</td>\n",
       "    </tr>\n",
       "    <tr>\n",
       "      <th>2</th>\n",
       "      <td>000113f07ec002fd</td>\n",
       "      <td>Hey man, I'm really not trying to edit war. It...</td>\n",
       "      <td>0</td>\n",
       "      <td>0</td>\n",
       "      <td>0</td>\n",
       "      <td>0</td>\n",
       "      <td>0</td>\n",
       "      <td>0</td>\n",
       "      <td>None</td>\n",
       "    </tr>\n",
       "    <tr>\n",
       "      <th>3</th>\n",
       "      <td>0001b41b1c6bb37e</td>\n",
       "      <td>\"\\nMore\\nI can't make any real suggestions on ...</td>\n",
       "      <td>0</td>\n",
       "      <td>0</td>\n",
       "      <td>0</td>\n",
       "      <td>0</td>\n",
       "      <td>0</td>\n",
       "      <td>0</td>\n",
       "      <td>None</td>\n",
       "    </tr>\n",
       "    <tr>\n",
       "      <th>4</th>\n",
       "      <td>0001d958c54c6e35</td>\n",
       "      <td>You, sir, are my hero. Any chance you remember...</td>\n",
       "      <td>0</td>\n",
       "      <td>0</td>\n",
       "      <td>0</td>\n",
       "      <td>0</td>\n",
       "      <td>0</td>\n",
       "      <td>0</td>\n",
       "      <td>None</td>\n",
       "    </tr>\n",
       "  </tbody>\n",
       "</table>\n",
       "</div>"
      ],
      "text/plain": [
       "                 id                                       comment_text  toxic  \\\n",
       "0  0000997932d777bf  Explanation\\nWhy the edits made under my usern...      0   \n",
       "1  000103f0d9cfb60f  D'aww! He matches this background colour I'm s...      0   \n",
       "2  000113f07ec002fd  Hey man, I'm really not trying to edit war. It...      0   \n",
       "3  0001b41b1c6bb37e  \"\\nMore\\nI can't make any real suggestions on ...      0   \n",
       "4  0001d958c54c6e35  You, sir, are my hero. Any chance you remember...      0   \n",
       "\n",
       "   severe_toxic  obscene  threat  insult  identity_hate category  \n",
       "0             0        0       0       0              0     None  \n",
       "1             0        0       0       0              0     None  \n",
       "2             0        0       0       0              0     None  \n",
       "3             0        0       0       0              0     None  \n",
       "4             0        0       0       0              0     None  "
      ]
     },
     "execution_count": 33,
     "metadata": {},
     "output_type": "execute_result"
    }
   ],
   "source": [
    "train_df.head()"
   ]
  },
  {
   "cell_type": "code",
   "execution_count": 35,
   "id": "f4d6bf15-8263-4391-ab9d-eec871ec5256",
   "metadata": {
    "scrolled": true
   },
   "outputs": [
    {
     "data": {
      "text/plain": [
       "category\n",
       " toxic                                                     5666\n",
       " toxic obscene insult                                      3800\n",
       " toxic obscene                                             1758\n",
       " toxic insult                                              1215\n",
       " toxic severe_toxic obscene insult                          989\n",
       " toxic obscene insult identity_hate                         618\n",
       " obscene                                                    317\n",
       " insult                                                     301\n",
       " toxic severe_toxic obscene insult identity_hate            265\n",
       " obscene insult                                             181\n",
       " toxic severe_toxic obscene                                 158\n",
       " toxic identity_hate                                        136\n",
       " toxic insult identity_hate                                 134\n",
       " toxic obscene threat insult                                131\n",
       " toxic threat                                               113\n",
       " toxic severe_toxic obscene threat insult                    64\n",
       " toxic obscene threat insult identity_hate                   56\n",
       " identity_hate                                               54\n",
       " toxic severe_toxic                                          41\n",
       " toxic obscene identity_hate                                 35\n",
       " toxic severe_toxic obscene threat insult identity_hate      31\n",
       " insult identity_hate                                        28\n",
       " threat                                                      22\n",
       " obscene insult identity_hate                                18\n",
       " toxic threat insult                                         16\n",
       " toxic severe_toxic insult                                   14\n",
       " toxic obscene threat                                        11\n",
       " toxic severe_toxic threat                                   11\n",
       " toxic severe_toxic insult identity_hate                      7\n",
       " toxic threat identity_hate                                   7\n",
       " toxic severe_toxic obscene identity_hate                     6\n",
       " toxic severe_toxic obscene threat                            4\n",
       " obscene identity_hate                                        3\n",
       " toxic severe_toxic identity_hate                             3\n",
       " threat insult                                                3\n",
       " toxic threat insult identity_hate                            3\n",
       " obscene threat insult                                        2\n",
       " obscene threat                                               2\n",
       " toxic severe_toxic threat identity_hate                      1\n",
       " toxic severe_toxic threat insult                             1\n",
       "Name: count, dtype: int64"
      ]
     },
     "execution_count": 35,
     "metadata": {},
     "output_type": "execute_result"
    }
   ],
   "source": [
    "train_df.value_counts(\"category\")"
   ]
  },
  {
   "cell_type": "code",
   "execution_count": 36,
   "id": "fefcf02e-e0de-4440-a2ed-96a03f863c47",
   "metadata": {},
   "outputs": [
    {
     "data": {
      "text/plain": [
       "143346"
      ]
     },
     "execution_count": 36,
     "metadata": {},
     "output_type": "execute_result"
    }
   ],
   "source": [
    "train_df[\"category\"].isnull().sum()"
   ]
  },
  {
   "cell_type": "code",
   "execution_count": 37,
   "id": "a3a56ae6-48b7-49b7-b670-830c2df34273",
   "metadata": {},
   "outputs": [
    {
     "data": {
      "text/plain": [
       "159571"
      ]
     },
     "execution_count": 37,
     "metadata": {},
     "output_type": "execute_result"
    }
   ],
   "source": [
    "len(train_df)"
   ]
  },
  {
   "cell_type": "code",
   "execution_count": 38,
   "id": "3b1e7ccf-9772-4380-8436-f902061e98e2",
   "metadata": {},
   "outputs": [],
   "source": [
    "percent_missing = train_df[\"category\"].isnull().sum() * 100 / len(train_df)"
   ]
  },
  {
   "cell_type": "code",
   "execution_count": 39,
   "id": "a13593c9-41f8-45f2-be5a-92341281585f",
   "metadata": {
    "scrolled": true
   },
   "outputs": [
    {
     "data": {
      "text/plain": [
       "89.83211235124176"
      ]
     },
     "execution_count": 39,
     "metadata": {},
     "output_type": "execute_result"
    }
   ],
   "source": [
    "percent_missing"
   ]
  },
  {
   "cell_type": "markdown",
   "id": "03a0984d-fe66-462f-a3ad-39498d5fb4e3",
   "metadata": {},
   "source": [
    "The dataset is a multi-label dataset with over 89% of the data having no labels."
   ]
  },
  {
   "cell_type": "code",
   "execution_count": 40,
   "id": "286a5ecf-defa-492c-952a-a5eab2eeb7b9",
   "metadata": {},
   "outputs": [],
   "source": [
    "num_present = len(train_df) - train_df[\"category\"].isnull().sum()"
   ]
  },
  {
   "cell_type": "code",
   "execution_count": 41,
   "id": "2d320cf5-afd5-4cb0-84d2-f6034ab8a52a",
   "metadata": {},
   "outputs": [
    {
     "data": {
      "text/plain": [
       "16225"
      ]
     },
     "execution_count": 41,
     "metadata": {},
     "output_type": "execute_result"
    }
   ],
   "source": [
    "num_present"
   ]
  },
  {
   "cell_type": "markdown",
   "id": "bcb45d1f-d9ea-412f-a785-70288e84c1c1",
   "metadata": {},
   "source": [
    "Getting number of instances of each category"
   ]
  },
  {
   "cell_type": "code",
   "execution_count": 76,
   "id": "298d91a9-21f5-483e-98d9-2e00ba34367e",
   "metadata": {},
   "outputs": [],
   "source": [
    "categories = [\"toxic\", \"severe_toxic\", \"obscene\", \"threat\", \"insult\", \"identity_hate\"]"
   ]
  },
  {
   "cell_type": "code",
   "execution_count": 91,
   "id": "5f61add6-fa9f-40c7-813e-d6525b5e7d8b",
   "metadata": {},
   "outputs": [],
   "source": [
    "counts = train_df[categories].sum()"
   ]
  },
  {
   "cell_type": "code",
   "execution_count": 92,
   "id": "37e25ab5-e697-4f07-a55c-2705537b8a52",
   "metadata": {},
   "outputs": [
    {
     "data": {
      "text/plain": [
       "toxic            15294\n",
       "severe_toxic      1595\n",
       "obscene           8449\n",
       "threat             478\n",
       "insult            7877\n",
       "identity_hate     1405\n",
       "dtype: int64"
      ]
     },
     "execution_count": 92,
     "metadata": {},
     "output_type": "execute_result"
    }
   ],
   "source": [
    "counts"
   ]
  },
  {
   "cell_type": "code",
   "execution_count": 94,
   "id": "aed48ade-87eb-4866-8779-afec05c05555",
   "metadata": {},
   "outputs": [
    {
     "data": {
      "image/png": "[encoded data removed]",
      "text/plain": [
       "<Figure size 640x480 with 1 Axes>"
      ]
     },
     "metadata": {},
     "output_type": "display_data"
    }
   ],
   "source": [
    "color = iter(plt.cm.rainbow(np.linspace(0, 1, len(categories))))\n",
    "plt.grid(True)\n",
    "plt.xlabel(\"Categories\")\n",
    "plt.ylabel(\"Counts\")\n",
    "for i in range(len(categories)):\n",
    "   c = next(color)\n",
    "   plt.bar(categories[i], counts[i], color=c)\n",
    "plt.show()"
   ]
  },
  {
   "cell_type": "code",
   "execution_count": 95,
   "id": "726d4148-e136-4a43-af96-0223702d9dfe",
   "metadata": {},
   "outputs": [],
   "source": [
    "category_percent = counts / num_present * 100.0"
   ]
  },
  {
   "cell_type": "code",
   "execution_count": 97,
   "id": "84fa0a72-5d16-46d1-8ffa-4c86ae3b7599",
   "metadata": {},
   "outputs": [
    {
     "data": {
      "text/plain": [
       "toxic            94.261941\n",
       "severe_toxic      9.830508\n",
       "obscene          52.073960\n",
       "threat            2.946071\n",
       "insult           48.548536\n",
       "identity_hate     8.659476\n",
       "dtype: float64"
      ]
     },
     "execution_count": 97,
     "metadata": {},
     "output_type": "execute_result"
    }
   ],
   "source": [
    "category_percent"
   ]
  },
  {
   "cell_type": "code",
   "execution_count": null,
   "id": "5bb6cf71-79eb-4bc2-ae7f-f9d29241b777",
   "metadata": {},
   "outputs": [],
   "source": []
  }
 ],
 "metadata": {
  "kernelspec": {
   "display_name": "Python 3 (ipykernel)",
   "language": "python",
   "name": "python3"
  },
  "language_info": {
   "codemirror_mode": {
    "name": "ipython",
    "version": 3
   },
   "file_extension": ".py",
   "mimetype": "text/x-python",
   "name": "python",
   "nbconvert_exporter": "python",
   "pygments_lexer": "ipython3",
   "version": "3.11.3"
  }
 },
 "nbformat": 4,
 "nbformat_minor": 5
}
